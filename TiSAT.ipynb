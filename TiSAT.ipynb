{
 "cells": [
  {
   "cell_type": "code",
   "execution_count": 55,
   "id": "f52d69ab",
   "metadata": {},
   "outputs": [],
   "source": [
    "from utils.tools import dotdict\n",
    "from exp.exp_informer import Exp_Informer\n",
    "import torch\n",
    "import os\n",
    "import numpy as np\n",
    "import matplotlib.pyplot as plt\n",
    "import seaborn as sns\n",
    "import pandas as pd"
   ]
  },
  {
   "cell_type": "code",
   "execution_count": null,
   "id": "9e20da39",
   "metadata": {},
   "outputs": [],
   "source": []
  },
  {
   "cell_type": "code",
   "execution_count": 24,
   "id": "2017f039",
   "metadata": {},
   "outputs": [],
   "source": [
    "# here is the detailed code of function predict\n",
    "\n",
    "def predict(exp, setting, load=False):\n",
    "    pred_data, pred_loader = exp._get_data(flag='test')\n",
    "        \n",
    "    if load:\n",
    "        path = os.path.join(exp.args.checkpoints, setting)\n",
    "        best_model_path = path+'/'+'checkpoint.pth'\n",
    "        exp.model.load_state_dict(torch.load(best_model_path))\n",
    "\n",
    "    exp.model.eval()\n",
    "        \n",
    "    preds = []\n",
    "        \n",
    "    for i, (batch_x,batch_y,batch_x_mark,batch_y_mark) in enumerate(pred_loader):\n",
    "        batch_x = batch_x.float().to(exp.device)\n",
    "        batch_y = batch_y.float()\n",
    "        batch_x_mark = batch_x_mark.float().to(exp.device)\n",
    "        batch_y_mark = batch_y_mark.float().to(exp.device)\n",
    "\n",
    "        # decoder input\n",
    "        if exp.args.padding==0:\n",
    "            dec_inp = torch.zeros([batch_y.shape[0], exp.args.pred_len, batch_y.shape[-1]]).float()\n",
    "        elif exp.args.padding==1:\n",
    "            dec_inp = torch.ones([batch_y.shape[0], exp.args.pred_len, batch_y.shape[-1]]).float()\n",
    "        else:\n",
    "            dec_inp = torch.zeros([batch_y.shape[0], exp.args.pred_len, batch_y.shape[-1]]).float()\n",
    "        dec_inp = torch.cat([batch_y[:,:exp.args.label_len,:], dec_inp], dim=1).float().to(exp.device)\n",
    "        # encoder - decoder\n",
    "        if exp.args.use_amp:\n",
    "            with torch.cuda.amp.autocast():\n",
    "                if exp.args.output_attention:\n",
    "                    outputs = exp.model(batch_x, batch_x_mark, dec_inp, batch_y_mark)[0]\n",
    "                else:\n",
    "                    outputs = exp.model(batch_x, batch_x_mark, dec_inp, batch_y_mark)\n",
    "        else:\n",
    "            if exp.args.output_attention:\n",
    "                outputs = exp.model(batch_x, batch_x_mark, dec_inp, batch_y_mark)[0]\n",
    "            else:\n",
    "                outputs = exp.model(batch_x, batch_x_mark, dec_inp, batch_y_mark)\n",
    "        f_dim = -1 if exp.args.features=='MS' else 0\n",
    "        batch_y = batch_y[:,-exp.args.pred_len:,f_dim:].to(exp.device)\n",
    "        \n",
    "        pred = outputs.detach().cpu().numpy()#.squeeze()\n",
    "        \n",
    "        preds.append(pred)\n",
    "\n",
    "    preds = np.array(preds)\n",
    "    preds = preds.reshape(-1, preds.shape[-2], preds.shape[-1])\n",
    "    \n",
    "    # result save\n",
    "    folder_path = './results/' + setting +'/'\n",
    "    if not os.path.exists(folder_path):\n",
    "        os.makedirs(folder_path)\n",
    "    \n",
    "    np.save(folder_path+'real_prediction.npy', preds)\n",
    "    \n",
    "    return preds\n"
   ]
  },
  {
   "cell_type": "code",
   "execution_count": 34,
   "id": "3e4537f0",
   "metadata": {},
   "outputs": [],
   "source": [
    "args = dotdict()\n",
    "\n",
    "args.model = 'informer' # model of experiment, options: [informer, informerstack, informerlight(TBD)]\n",
    "\n",
    "args.data = 'custom' # data\n",
    "args.root_path = './Dataset/SWAT/' # root path of data file\n",
    "args.data_path = 'Normal.csv' # data file\n",
    "args.features = 'M' # forecasting task, options:[M, S, MS]; M:multivariate predict multivariate, S:univariate predict univariate, MS:multivariate predict univariate\n",
    "args.target = 'OT' # target feature in S or MS task\n",
    "args.freq = 's' # freq for time features encoding, options:[s:secondly, t:minutely, h:hourly, d:daily, b:business days, w:weekly, m:monthly], you can also use more detailed freq like 15min or 3h\n",
    "args.checkpoints = './checkpoints' # location of model checkpoints\n",
    "\n",
    "# args.data = 'ETTh1' # data\n",
    "# args.root_path = './ETDataset/ETT-small/' # root path of data file\n",
    "# args.data_path = 'ETTh1.csv' # data file\n",
    "# args.features = 'M' # forecasting task, options:[M, S, MS]; M:multivariate predict multivariate, S:univariate predict univariate, MS:multivariate predict univariate\n",
    "# args.target = 'OT' # target feature in S or MS task\n",
    "# args.freq = 's' # freq for time features encoding, options:[s:secondly, t:minutely, h:hourly, d:daily, b:business days, w:weekly, m:monthly], you can also use more detailed freq like 15min or 3h\n",
    "# args.checkpoints = './informer_checkpoints' # location of model checkpoints\n",
    "\n",
    "args.seq_len = 100 # input sequence length of Informer encoder\n",
    "args.label_len = 50 # start token length of Informer decoder\n",
    "args.pred_len = 1 # prediction sequence length\n",
    "# Informer decoder input: concat[start token series(label_len), zero padding series(pred_len)]\n",
    "\n",
    "args.enc_in = 7 # encoder input size\n",
    "args.dec_in = 7 # decoder input size\n",
    "args.c_out = 7 # output size\n",
    "args.factor = 5 # probsparse attn factor\n",
    "args.d_model = 512 # dimension of model\n",
    "args.n_heads = 8 # num of heads\n",
    "args.e_layers = 2 # num of encoder layers\n",
    "args.d_layers = 1 # num of decoder layers\n",
    "args.d_ff = 2048 # dimension of fcn in model\n",
    "args.dropout = 0.05 # dropout\n",
    "args.attn = 'prob' # attention used in encoder, options:[prob, full]\n",
    "args.embed = 'timeF' # time features encoding, options:[timeF, fixed, learned]\n",
    "args.activation = 'gelu' # activation\n",
    "args.distil = True # whether to use distilling in encoder\n",
    "args.output_attention = False # whether to output attention in ecoder\n",
    "args.mix = True\n",
    "args.padding = 0\n",
    "args.freq = 's'\n",
    "\n",
    "args.batch_size = 128\n",
    "args.learning_rate = 0.0001\n",
    "args.loss = 'mse'\n",
    "args.lradj = 'type1'\n",
    "args.use_amp = False # whether to use automatic mixed precision training\n",
    "\n",
    "args.num_workers = 0\n",
    "args.itr = 1\n",
    "args.train_epochs = 1\n",
    "args.patience = 3\n",
    "args.des = 'exp'\n",
    "\n",
    "args.use_gpu = True if torch.cuda.is_available() else False\n",
    "args.gpu = 0\n",
    "\n",
    "args.use_multi_gpu = False\n",
    "args.devices = '0,1'\n"
   ]
  },
  {
   "cell_type": "code",
   "execution_count": 35,
   "id": "65371e2b",
   "metadata": {},
   "outputs": [
    {
     "data": {
      "text/plain": [
       "True"
      ]
     },
     "execution_count": 35,
     "metadata": {},
     "output_type": "execute_result"
    }
   ],
   "source": [
    "torch.cuda.is_available()"
   ]
  },
  {
   "cell_type": "code",
   "execution_count": 36,
   "id": "a8280c71",
   "metadata": {},
   "outputs": [],
   "source": [
    "args.use_gpu = True if torch.cuda.is_available() and args.use_gpu else False\n",
    "\n",
    "if args.use_gpu and args.use_multi_gpu:\n",
    "    args.devices = args.devices.replace(' ','')\n",
    "    device_ids = args.devices.split(',')\n",
    "    args.device_ids = [int(id_) for id_ in device_ids]\n",
    "    args.gpu = args.device_ids[0]"
   ]
  },
  {
   "cell_type": "code",
   "execution_count": 37,
   "id": "79201b83",
   "metadata": {},
   "outputs": [],
   "source": [
    "data_parser = {\n",
    "    'custom':{'data':'Normal.csv','T':'FIT101','M':[37,37,37]},\n",
    "}\n",
    "if args.data in data_parser.keys():\n",
    "    data_info = data_parser[args.data]\n",
    "    args.data_path = data_info['data']\n",
    "    args.target = data_info['T']\n",
    "    args.enc_in, args.dec_in, args.c_out = data_info[args.features]"
   ]
  },
  {
   "cell_type": "code",
   "execution_count": 38,
   "id": "0aa9fd81",
   "metadata": {},
   "outputs": [
    {
     "data": {
      "text/plain": [
       "{'data': 'Normal.csv', 'T': 'FIT101', 'M': [37, 37, 37]}"
      ]
     },
     "execution_count": 38,
     "metadata": {},
     "output_type": "execute_result"
    }
   ],
   "source": [
    "data_info"
   ]
  },
  {
   "cell_type": "code",
   "execution_count": 39,
   "id": "3d430c28",
   "metadata": {},
   "outputs": [
    {
     "data": {
      "text/plain": [
       "'M'"
      ]
     },
     "execution_count": 39,
     "metadata": {},
     "output_type": "execute_result"
    }
   ],
   "source": [
    "args.features"
   ]
  },
  {
   "cell_type": "code",
   "execution_count": 40,
   "id": "6aec9884",
   "metadata": {},
   "outputs": [],
   "source": [
    "args.detail_freq = args.freq\n",
    "args.freq = args.freq[-1:]"
   ]
  },
  {
   "cell_type": "code",
   "execution_count": null,
   "id": "c301ad4a",
   "metadata": {},
   "outputs": [],
   "source": []
  },
  {
   "cell_type": "code",
   "execution_count": 41,
   "id": "3948c242",
   "metadata": {},
   "outputs": [],
   "source": [
    "Exp = Exp_Informer"
   ]
  },
  {
   "cell_type": "code",
   "execution_count": 42,
   "id": "bf801fcd",
   "metadata": {},
   "outputs": [
    {
     "name": "stdout",
     "output_type": "stream",
     "text": [
      "Use GPU: cuda:0\n",
      ">>>>>>>start training : informer_custom_ftM_sl100_ll50_pl1_dm512_nh8_el2_dl1_df2048_atprob_fc5_ebtimeF_dtTrue_mxTrue_exp_0>>>>>>>>>>>>>>>>>>>>>>>>>>\n",
      "train 297980\n",
      "val 149040\n",
      "test 449819\n",
      "\titers: 100, epoch: 1 | loss: 0.2972454\n",
      "\tspeed: 0.2016s/iter; left time: 449.1858s\n",
      "\titers: 200, epoch: 1 | loss: 0.0862559\n",
      "\tspeed: 0.2009s/iter; left time: 427.4540s\n",
      "\titers: 300, epoch: 1 | loss: 0.0629812\n",
      "\tspeed: 0.2016s/iter; left time: 408.7511s\n",
      "\titers: 400, epoch: 1 | loss: 0.0976696\n",
      "\tspeed: 0.2024s/iter; left time: 390.3229s\n",
      "\titers: 500, epoch: 1 | loss: 0.0312701\n",
      "\tspeed: 0.2028s/iter; left time: 370.7707s\n",
      "\titers: 600, epoch: 1 | loss: 0.0185941\n",
      "\tspeed: 0.2028s/iter; left time: 350.4788s\n",
      "\titers: 700, epoch: 1 | loss: 0.0306596\n",
      "\tspeed: 0.2031s/iter; left time: 330.6175s\n",
      "\titers: 800, epoch: 1 | loss: 0.0196975\n",
      "\tspeed: 0.2048s/iter; left time: 312.8910s\n",
      "\titers: 900, epoch: 1 | loss: 0.0274812\n",
      "\tspeed: 0.2040s/iter; left time: 291.3352s\n",
      "\titers: 1000, epoch: 1 | loss: 0.0690869\n",
      "\tspeed: 0.2043s/iter; left time: 271.3361s\n",
      "\titers: 1100, epoch: 1 | loss: 0.0174780\n",
      "\tspeed: 0.2057s/iter; left time: 252.5467s\n",
      "\titers: 1200, epoch: 1 | loss: 0.0150124\n",
      "\tspeed: 0.2044s/iter; left time: 230.5674s\n",
      "\titers: 1300, epoch: 1 | loss: 0.0188779\n",
      "\tspeed: 0.2046s/iter; left time: 210.3083s\n",
      "\titers: 1400, epoch: 1 | loss: 0.0116196\n",
      "\tspeed: 0.2047s/iter; left time: 189.9526s\n",
      "\titers: 1500, epoch: 1 | loss: 0.0121075\n",
      "\tspeed: 0.2047s/iter; left time: 169.4803s\n",
      "\titers: 1600, epoch: 1 | loss: 0.0116269\n",
      "\tspeed: 0.2079s/iter; left time: 151.3865s\n",
      "\titers: 1700, epoch: 1 | loss: 0.0147901\n",
      "\tspeed: 0.2082s/iter; left time: 130.7337s\n",
      "\titers: 1800, epoch: 1 | loss: 0.0189991\n",
      "\tspeed: 0.2060s/iter; left time: 108.7923s\n",
      "\titers: 1900, epoch: 1 | loss: 0.0206597\n",
      "\tspeed: 0.2080s/iter; left time: 89.0248s\n",
      "\titers: 2000, epoch: 1 | loss: 0.0100929\n",
      "\tspeed: 0.2072s/iter; left time: 67.9634s\n",
      "\titers: 2100, epoch: 1 | loss: 0.0296588\n",
      "\tspeed: 0.2064s/iter; left time: 47.0543s\n",
      "\titers: 2200, epoch: 1 | loss: 0.0117092\n",
      "\tspeed: 0.2125s/iter; left time: 27.1972s\n",
      "\titers: 2300, epoch: 1 | loss: 0.0664041\n",
      "\tspeed: 0.2119s/iter; left time: 5.9320s\n",
      "Epoch: 1 cost time: 477.74642729759216\n",
      "Epoch: 1, Steps: 2327 | Train Loss: 0.0429924 Vali Loss: 0.0138332 Test Loss: 0.1226162\n",
      "Validation loss decreased (inf --> 0.013833).  Saving model ...\n",
      "Updating learning rate to 0.0001\n",
      ">>>>>>>testing : informer_custom_ftM_sl100_ll50_pl1_dm512_nh8_el2_dl1_df2048_atprob_fc5_ebtimeF_dtTrue_mxTrue_exp_0<<<<<<<<<<<<<<<<<<<<<<<<<<<<<<<<<\n",
      "test 449819\n",
      "test shape: (3514, 128, 1, 37) (3514, 128, 1, 37)\n",
      "test shape: (449792, 1, 37) (449792, 1, 37)\n",
      "mse:0.12267660349607468, mae:0.15508820116519928\n"
     ]
    }
   ],
   "source": [
    "for ii in range(args.itr):\n",
    "    # setting record of experiments\n",
    "    setting = '{}_{}_ft{}_sl{}_ll{}_pl{}_dm{}_nh{}_el{}_dl{}_df{}_at{}_fc{}_eb{}_dt{}_mx{}_{}_{}'.format(args.model, args.data, args.features, \n",
    "                args.seq_len, args.label_len, args.pred_len,\n",
    "                args.d_model, args.n_heads, args.e_layers, args.d_layers, args.d_ff, args.attn, args.factor, args.embed, args.distil, args.mix, args.des, ii)\n",
    "\n",
    "    # set experiments\n",
    "    exp = Exp(args)\n",
    "    \n",
    "    # train\n",
    "    print('>>>>>>>start training : {}>>>>>>>>>>>>>>>>>>>>>>>>>>'.format(setting))\n",
    "    exp.train(setting)\n",
    "    \n",
    "#     # test\n",
    "    print('>>>>>>>testing : {}<<<<<<<<<<<<<<<<<<<<<<<<<<<<<<<<<'.format(setting))\n",
    "    exp.test(setting)\n",
    "\n",
    "    torch.cuda.empty_cache()"
   ]
  },
  {
   "cell_type": "code",
   "execution_count": null,
   "id": "a0dbf55a",
   "metadata": {},
   "outputs": [],
   "source": [
    "prediction = np.load('./results/'+setting+'/real_prediction.npy')\n",
    "\n",
    "prediction.shape"
   ]
  },
  {
   "cell_type": "code",
   "execution_count": 14,
   "id": "e0e88d5e",
   "metadata": {},
   "outputs": [
    {
     "name": "stdout",
     "output_type": "stream",
     "text": [
      "Use GPU: cuda:0\n",
      "test 449720\n"
     ]
    }
   ],
   "source": [
    "exp = Exp(args)\n",
    "setting = '{}_{}_ft{}_sl{}_ll{}_pl{}_dm{}_nh{}_el{}_dl{}_df{}_at{}_fc{}_eb{}_dt{}_mx{}_{}_{}'.format(args.model, args.data, args.features, \n",
    "                args.seq_len, args.label_len, args.pred_len,\n",
    "                args.d_model, args.n_heads, args.e_layers, args.d_layers, args.d_ff, args.attn, args.factor, args.embed, args.distil, args.mix, args.des, 0)\n",
    "prediction = predict(exp, setting, True)"
   ]
  },
  {
   "cell_type": "code",
   "execution_count": 43,
   "id": "72a97099",
   "metadata": {},
   "outputs": [],
   "source": [
    "preds = np.load('./results/'+setting+'/pred.npy')\n",
    "trues = np.load('./results/'+setting+'/true.npy')\n",
    "\n",
    "\n"
   ]
  },
  {
   "cell_type": "code",
   "execution_count": 44,
   "id": "89931f5b",
   "metadata": {},
   "outputs": [
    {
     "data": {
      "text/plain": [
       "(449792, 1, 37)"
      ]
     },
     "execution_count": 44,
     "metadata": {},
     "output_type": "execute_result"
    }
   ],
   "source": [
    "trues.shape"
   ]
  },
  {
   "cell_type": "code",
   "execution_count": 47,
   "id": "06726589",
   "metadata": {},
   "outputs": [
    {
     "data": {
      "text/plain": [
       "(449792, 1, 37)"
      ]
     },
     "execution_count": 47,
     "metadata": {},
     "output_type": "execute_result"
    }
   ],
   "source": [
    "preds.shape"
   ]
  },
  {
   "cell_type": "markdown",
   "id": "f8d7cb41",
   "metadata": {},
   "source": [
    "## Prediction"
   ]
  },
  {
   "cell_type": "code",
   "execution_count": 48,
   "id": "26e66b6b",
   "metadata": {},
   "outputs": [],
   "source": [
    "preds = np.load('./results/'+setting+'/pred.npy')\n",
    "trues = np.load('./results/'+setting+'/true.npy')"
   ]
  },
  {
   "cell_type": "code",
   "execution_count": 68,
   "id": "b67590a6",
   "metadata": {},
   "outputs": [],
   "source": [
    "det = np.mean((preds[:,0,:]-trues[:,0,:])**2,1)"
   ]
  },
  {
   "cell_type": "code",
   "execution_count": 69,
   "id": "85e140c3",
   "metadata": {},
   "outputs": [
    {
     "data": {
      "text/plain": [
       "[<matplotlib.lines.Line2D at 0x7f9c96c41d30>]"
      ]
     },
     "execution_count": 69,
     "metadata": {},
     "output_type": "execute_result"
    },
    {
     "data": {
      "image/png": "[encoded data removed]",
      "text/plain": [
       "<Figure size 432x288 with 1 Axes>"
      ]
     },
     "metadata": {
      "needs_background": "light"
     },
     "output_type": "display_data"
    }
   ],
   "source": [
    "plt.plot(det)"
   ]
  },
  {
   "cell_type": "code",
   "execution_count": 52,
   "id": "c15f8588",
   "metadata": {},
   "outputs": [],
   "source": [
    "# for i in range(0,len(det),100):\n",
    "#     if np.mean(det[i:i+100]) < 1:\n",
    "#         det[i:i+100] = 0"
   ]
  },
  {
   "cell_type": "code",
   "execution_count": 59,
   "id": "1e5bf1b0",
   "metadata": {},
   "outputs": [],
   "source": [
    "df_a = pd.read_csv('./Attack.csv',skiprows=1)\n",
    "labels = np.load('labels.npy')\n",
    "GT2 = df_a.loc[df_a['Normal/Attack'] == 'Attack'].index\n",
    "GT2 = [GT2.values][0]"
   ]
  },
  {
   "cell_type": "code",
   "execution_count": 75,
   "id": "f4fb89ad",
   "metadata": {},
   "outputs": [
    {
     "name": "stdout",
     "output_type": "stream",
     "text": [
      "0.8284845568291189 0.6934146207502608 0.7549557989575132\n"
     ]
    }
   ],
   "source": [
    "thr = 0.2\n",
    "df_n = pd.read_csv('Normal.csv',skiprows=1)\n",
    "df_a = pd.read_csv('Attack.csv',skiprows=1)\n",
    "\n",
    "Alarms2 = (np.where(det >= thr))[0] \n",
    "N_Alarms2 = (np.where(det < thr))[0]\n",
    "\n",
    "GT2 = df_a.loc[df_a['Normal/Attack'] == 'Attack'].index\n",
    "GT2 = [GT2.values][0]\n",
    "\n",
    "NT2 = df_a.loc[df_a['Normal/Attack'] == 'Normal'].index\n",
    "NT2 = [NT2.values][0]\n",
    "\n",
    "\n",
    "TP2 = list(set(Alarms2.tolist()) & set((GT2.tolist())))\n",
    "TN2 = list(set(N_Alarms2.tolist()) & set((NT2.tolist())))\n",
    "FP2 = list(set(Alarms2.tolist()) & set((NT2.tolist())))\n",
    "FN2 = list(set(N_Alarms2.tolist()) & set((GT2.tolist())))\n",
    "\n",
    "PRE2 = len(TP2)/(len(TP2)+len(FP2))\n",
    "REC2 = len(TP2)/(len(TP2)+len(FN2))\n",
    "F12 = 2*PRE2*REC2/(PRE2+REC2)\n",
    "\n",
    "print(PRE2,REC2,F12)"
   ]
  },
  {
   "cell_type": "code",
   "execution_count": null,
   "id": "5dd162c4",
   "metadata": {},
   "outputs": [],
   "source": [
    "np.save(\"detections.npy\",det)"
   ]
  },
  {
   "cell_type": "code",
   "execution_count": null,
   "id": "daf29002",
   "metadata": {},
   "outputs": [],
   "source": [
    "thr = 0.975\n",
    "df_n = pd.read_csv('Normal.csv',skiprows=1)\n",
    "df_a = pd.read_csv('Attack.csv',skiprows=1)\n",
    "\n",
    "\n",
    "\n",
    "OTP = 0\n",
    "OTN = 0\n",
    "OFP = 0\n",
    "OFN = 0\n",
    "\n",
    "\n",
    "\n",
    "GT = df_a.loc[df_a['Normal/Attack'] == 'Attack'].index\n",
    "NT = df_a.loc[df_a['Normal/Attack'] == 'Normal'].index\n",
    "\n",
    "# det = np.random.random((len(GT.values)+len(NT.values),1))\n",
    "\n",
    "GT2 = [GT.values][0] - 100\n",
    "NT2 = [NT.values][0] - 100\n",
    "\n",
    "gts = set((GT2.tolist()))\n",
    "nts = set((NT2.tolist()))\n",
    "\n",
    "for i in range(0,len(det),win):\n",
    "    print(i)\n",
    "    Alarms2= i+(np.where(det[i:i+win] >= thr))[0] \n",
    "    N_Alarms2= i+(np.where(det[i:i+win] < thr))[0]\n",
    "    \n",
    "    \n",
    "    \n",
    "    TP2 = list(set(Alarms2.tolist()) & gts)\n",
    "    TN2 = list(set(N_Alarms2.tolist()) & nts)\n",
    "    FP2 = list(set(Alarms2.tolist()) & nts)\n",
    "    FN2 = list(set(N_Alarms2.tolist()) & gts)\n",
    "    \n",
    "    if len(TP2) > 0:\n",
    "        OTP+= len(gts & set(list(np.arange(i,i+win))))\n",
    "        OFN+=0\n",
    "    else:\n",
    "        OTP += len(TP2)\n",
    "        OFN += len(FN2)\n",
    "    OTN += len(TN2)\n",
    "    OFP += len(FP2)\n",
    "        \n",
    "    \n",
    "\n",
    "\n",
    "\n",
    "\n",
    "\n",
    "PRE2 = OTP/(OTP+OFP)\n",
    "REC2 = OTP/(OTP+OFN)\n",
    "F12 = 2*PRE2*REC2/(PRE2+REC2)\n",
    "\n",
    "print(PRE2,REC2,F12)"
   ]
  },
  {
   "cell_type": "code",
   "execution_count": null,
   "id": "572a1362",
   "metadata": {},
   "outputs": [],
   "source": []
  }
 ],
 "metadata": {
  "kernelspec": {
   "display_name": "Python 3",
   "language": "python",
   "name": "python3"
  },
  "language_info": {
   "codemirror_mode": {
    "name": "ipython",
    "version": 3
   },
   "file_extension": ".py",
   "mimetype": "text/x-python",
   "name": "python",
   "nbconvert_exporter": "python",
   "pygments_lexer": "ipython3",
   "version": "3.8.8"
  }
 },
 "nbformat": 4,
 "nbformat_minor": 5
}
